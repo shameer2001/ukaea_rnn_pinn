{
 "cells": [
  {
   "cell_type": "code",
   "execution_count": 1,
   "metadata": {},
   "outputs": [
    {
     "name": "stdout",
     "output_type": "stream",
     "text": [
      "3557.10272422\n"
     ]
    }
   ],
   "source": [
    "import numpy as np\n",
    "import colour as colour\n",
    "\n",
    "# Assuming sRGB encoded colour values.\n",
    "RGB = np.array([255.0, 235.0, 12.0])\n",
    "\n",
    "# Conversion to tristimulus values.\n",
    "XYZ = colour.sRGB_to_XYZ(RGB / 255)\n",
    "\n",
    "# Conversion to chromaticity coordinates.\n",
    "xy = colour.XYZ_to_xy(XYZ)\n",
    "\n",
    "# Conversion to correlated colour temperature in K.\n",
    "CCT = colour.xy_to_CCT(xy, 'hernandez1999')\n",
    "print(CCT)"
   ]
  },
  {
   "cell_type": "code",
   "execution_count": null,
   "metadata": {},
   "outputs": [],
   "source": []
  }
 ],
 "metadata": {
  "kernelspec": {
   "display_name": "Python 3",
   "language": "python",
   "name": "python3"
  },
  "language_info": {
   "codemirror_mode": {
    "name": "ipython",
    "version": 3
   },
   "file_extension": ".py",
   "mimetype": "text/x-python",
   "name": "python",
   "nbconvert_exporter": "python",
   "pygments_lexer": "ipython3",
   "version": "3.8.3"
  }
 },
 "nbformat": 4,
 "nbformat_minor": 4
}
